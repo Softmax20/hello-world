{
  "nbformat": 4,
  "nbformat_minor": 0,
  "metadata": {
    "colab": {
      "name": "find point by NN",
      "provenance": [],
      "authorship_tag": "ABX9TyN116nQTDqnMptfzgQunxkl",
      "include_colab_link": true
    },
    "kernelspec": {
      "name": "python3",
      "display_name": "Python 3"
    }
  },
  "cells": [
    {
      "cell_type": "markdown",
      "metadata": {
        "id": "view-in-github",
        "colab_type": "text"
      },
      "source": [
        "<a href=\"https://colab.research.google.com/github/Softmax20/hello-world/blob/master/find_point_by_NN.ipynb\" target=\"_parent\"><img src=\"https://colab.research.google.com/assets/colab-badge.svg\" alt=\"Open In Colab\"/></a>"
      ]
    },
    {
      "cell_type": "code",
      "metadata": {
        "id": "dLD2OsvlwDLt",
        "colab_type": "code",
        "colab": {
          "base_uri": "https://localhost:8080/",
          "height": 369
        },
        "outputId": "661f9b39-edf4-4a87-ebb7-fffb4b79f469"
      },
      "source": [
        "pip install lifelines"
      ],
      "execution_count": 1,
      "outputs": [
        {
          "output_type": "stream",
          "text": [
            "Collecting lifelines\n",
            "\u001b[?25l  Downloading https://files.pythonhosted.org/packages/fb/7b/9b2cc2ef870b31ca342f97f5b0cd7a31eda13fcf16de4f55b8121b1144d3/lifelines-0.25.2-py3-none-any.whl (344kB)\n",
            "\u001b[K     |████████████████████████████████| 348kB 2.1MB/s \n",
            "\u001b[?25hRequirement already satisfied: matplotlib>=3.0 in /usr/local/lib/python3.6/dist-packages (from lifelines) (3.2.2)\n",
            "Requirement already satisfied: pandas>=0.23.0 in /usr/local/lib/python3.6/dist-packages (from lifelines) (1.0.5)\n",
            "Collecting autograd-gamma>=0.3\n",
            "  Downloading https://files.pythonhosted.org/packages/0a/07/d99339c9420b58b723a9189d1373e5c3889758b2202a1a7fe4a3b7a10c5a/autograd_gamma-0.4.2-py2.py3-none-any.whl\n",
            "Requirement already satisfied: numpy>=1.14.0 in /usr/local/lib/python3.6/dist-packages (from lifelines) (1.18.5)\n",
            "Requirement already satisfied: patsy>=0.5.0 in /usr/local/lib/python3.6/dist-packages (from lifelines) (0.5.1)\n",
            "Requirement already satisfied: scipy>=1.2.0 in /usr/local/lib/python3.6/dist-packages (from lifelines) (1.4.1)\n",
            "Requirement already satisfied: autograd>=1.3 in /usr/local/lib/python3.6/dist-packages (from lifelines) (1.3)\n",
            "Requirement already satisfied: kiwisolver>=1.0.1 in /usr/local/lib/python3.6/dist-packages (from matplotlib>=3.0->lifelines) (1.2.0)\n",
            "Requirement already satisfied: cycler>=0.10 in /usr/local/lib/python3.6/dist-packages (from matplotlib>=3.0->lifelines) (0.10.0)\n",
            "Requirement already satisfied: pyparsing!=2.0.4,!=2.1.2,!=2.1.6,>=2.0.1 in /usr/local/lib/python3.6/dist-packages (from matplotlib>=3.0->lifelines) (2.4.7)\n",
            "Requirement already satisfied: python-dateutil>=2.1 in /usr/local/lib/python3.6/dist-packages (from matplotlib>=3.0->lifelines) (2.8.1)\n",
            "Requirement already satisfied: pytz>=2017.2 in /usr/local/lib/python3.6/dist-packages (from pandas>=0.23.0->lifelines) (2018.9)\n",
            "Requirement already satisfied: six in /usr/local/lib/python3.6/dist-packages (from patsy>=0.5.0->lifelines) (1.15.0)\n",
            "Requirement already satisfied: future>=0.15.2 in /usr/local/lib/python3.6/dist-packages (from autograd>=1.3->lifelines) (0.16.0)\n",
            "Installing collected packages: autograd-gamma, lifelines\n",
            "Successfully installed autograd-gamma-0.4.2 lifelines-0.25.2\n"
          ],
          "name": "stdout"
        }
      ]
    },
    {
      "cell_type": "code",
      "metadata": {
        "id": "2XtylYyBmQ8-",
        "colab_type": "code",
        "colab": {
          "base_uri": "https://localhost:8080/",
          "height": 142
        },
        "outputId": "a9de39ad-81fb-491b-9593-e060898f2161"
      },
      "source": [
        "from lifelines.statistics import logrank_test\n",
        "import numpy as np\n",
        "import matplotlib.pyplot as plt\n",
        "import pandas as pd\n",
        "%matplotlib inline\n",
        "\n",
        "# 구글 드라이브에서 대회 데이터셋 DataFrame으로 불러오기\n",
        "from google.colab import drive\n",
        "drive.mount(\"/content/gdrive\")\n",
        "%cd /content/gdrive/My Drive\n",
        "X_df = pd.read_csv('trainX.csv')\n",
        "Y_df = pd.read_csv('trainY.csv')\n",
        "A_df = pd.read_csv('trainA.csv')\n",
        "test_df = pd.read_csv('testX.csv')\n",
        "\n",
        "tabels = [X_df, Y_df, A_df, test_df]\n",
        "\n",
        "for tabel in tabels:\n",
        "  tabel.drop('Unnamed: 0', axis=1, inplace=True)"
      ],
      "execution_count": 2,
      "outputs": [
        {
          "output_type": "stream",
          "text": [
            "Go to this URL in a browser: https://accounts.google.com/o/oauth2/auth?client_id=947318989803-6bn6qk8qdgf4n4g3pfee6491hc0brc4i.apps.googleusercontent.com&redirect_uri=urn%3aietf%3awg%3aoauth%3a2.0%3aoob&scope=email%20https%3a%2f%2fwww.googleapis.com%2fauth%2fdocs.test%20https%3a%2f%2fwww.googleapis.com%2fauth%2fdrive%20https%3a%2f%2fwww.googleapis.com%2fauth%2fdrive.photos.readonly%20https%3a%2f%2fwww.googleapis.com%2fauth%2fpeopleapi.readonly&response_type=code\n",
            "\n",
            "Enter your authorization code:\n",
            "··········\n",
            "Mounted at /content/gdrive\n",
            "/content/gdrive/My Drive\n"
          ],
          "name": "stdout"
        }
      ]
    },
    {
      "cell_type": "code",
      "metadata": {
        "id": "XMib9RaEwPS6",
        "colab_type": "code",
        "colab": {}
      },
      "source": [
        "from sklearn.neighbors import NearestNeighbors"
      ],
      "execution_count": 3,
      "outputs": []
    },
    {
      "cell_type": "code",
      "metadata": {
        "id": "kAkX_sBtwOxK",
        "colab_type": "code",
        "colab": {
          "base_uri": "https://localhost:8080/",
          "height": 1000
        },
        "outputId": "aa18e598-39df-4769-e372-bb62b8256519"
      },
      "source": [
        "# indices는 p<0.01의 군집 중심\n",
        "indices = []\n",
        "Time = Y_df['time']\n",
        "\n",
        "for n in range(7, 11):\n",
        "  # kneighbors: testX의 각 포인트를 중심으로 n개의 인접 환자\n",
        "  neigh = NearestNeighbors(n_neighbors=n).fit(X_df)\n",
        "  kneighbors = neigh.kneighbors(test_df, n_neighbors=n)[1]\n",
        "  for i in range(0, 286):\n",
        "    # Action에 따라 군집을 나누기 위해 인덱스 추출\n",
        "    Action = A_df.iloc[kneighbors[i]]\n",
        "    Action1 = Action[Action['Action']==1].index\n",
        "    Action0 = Action[Action['Action']==0].index\n",
        "    # log rank test 시행\n",
        "    results = logrank_test(Time.iloc[Action1], Time.iloc[Action0], event_observed_A=Y_df['event'].iloc[Action1], event_observed_B=Y_df['event'].iloc[Action0])\n",
        "    # p<0.01 일 경우 결과 출력 및 군집 중심 저장\n",
        "    if results.p_value < 0.01:\n",
        "      print(f'i={i}, n_neighbors={n}, p_value={results.p_value:.3f}')\n",
        "      indices.append(i)"
      ],
      "execution_count": 11,
      "outputs": [
        {
          "output_type": "stream",
          "text": [
            "i=121, n_neighbors=7, p_value=0.008\n",
            "i=179, n_neighbors=7, p_value=0.010\n",
            "i=252, n_neighbors=7, p_value=0.008\n",
            "i=272, n_neighbors=7, p_value=0.008\n",
            "i=7, n_neighbors=8, p_value=0.008\n",
            "i=18, n_neighbors=8, p_value=0.008\n",
            "i=25, n_neighbors=8, p_value=0.008\n",
            "i=35, n_neighbors=8, p_value=0.008\n",
            "i=62, n_neighbors=8, p_value=0.007\n",
            "i=69, n_neighbors=8, p_value=0.007\n",
            "i=70, n_neighbors=8, p_value=0.004\n",
            "i=76, n_neighbors=8, p_value=0.007\n",
            "i=87, n_neighbors=8, p_value=0.008\n",
            "i=94, n_neighbors=8, p_value=0.008\n",
            "i=121, n_neighbors=8, p_value=0.004\n",
            "i=144, n_neighbors=8, p_value=0.008\n",
            "i=150, n_neighbors=8, p_value=0.008\n",
            "i=179, n_neighbors=8, p_value=0.005\n",
            "i=187, n_neighbors=8, p_value=0.008\n",
            "i=212, n_neighbors=8, p_value=0.008\n",
            "i=225, n_neighbors=8, p_value=0.008\n",
            "i=252, n_neighbors=8, p_value=0.004\n",
            "i=259, n_neighbors=8, p_value=0.008\n",
            "i=265, n_neighbors=8, p_value=0.004\n",
            "i=266, n_neighbors=8, p_value=0.008\n",
            "i=270, n_neighbors=8, p_value=0.008\n",
            "i=272, n_neighbors=8, p_value=0.004\n",
            "i=280, n_neighbors=8, p_value=0.008\n",
            "i=7, n_neighbors=9, p_value=0.005\n",
            "i=18, n_neighbors=9, p_value=0.005\n",
            "i=25, n_neighbors=9, p_value=0.005\n",
            "i=35, n_neighbors=9, p_value=0.005\n",
            "i=76, n_neighbors=9, p_value=0.005\n",
            "i=94, n_neighbors=9, p_value=0.005\n",
            "i=144, n_neighbors=9, p_value=0.005\n",
            "i=147, n_neighbors=9, p_value=0.007\n",
            "i=151, n_neighbors=9, p_value=0.005\n",
            "i=179, n_neighbors=9, p_value=0.002\n",
            "i=212, n_neighbors=9, p_value=0.005\n",
            "i=225, n_neighbors=9, p_value=0.005\n",
            "i=259, n_neighbors=9, p_value=0.005\n",
            "i=263, n_neighbors=9, p_value=0.005\n",
            "i=266, n_neighbors=9, p_value=0.005\n",
            "i=270, n_neighbors=9, p_value=0.005\n",
            "i=280, n_neighbors=9, p_value=0.005\n",
            "i=7, n_neighbors=10, p_value=0.003\n",
            "i=18, n_neighbors=10, p_value=0.003\n",
            "i=25, n_neighbors=10, p_value=0.001\n",
            "i=35, n_neighbors=10, p_value=0.003\n",
            "i=46, n_neighbors=10, p_value=0.009\n",
            "i=76, n_neighbors=10, p_value=0.002\n",
            "i=81, n_neighbors=10, p_value=0.006\n",
            "i=94, n_neighbors=10, p_value=0.003\n",
            "i=135, n_neighbors=10, p_value=0.005\n",
            "i=144, n_neighbors=10, p_value=0.003\n",
            "i=147, n_neighbors=10, p_value=0.003\n",
            "i=179, n_neighbors=10, p_value=0.001\n",
            "i=212, n_neighbors=10, p_value=0.001\n",
            "i=225, n_neighbors=10, p_value=0.003\n",
            "i=259, n_neighbors=10, p_value=0.003\n",
            "i=266, n_neighbors=10, p_value=0.003\n",
            "i=270, n_neighbors=10, p_value=0.003\n",
            "i=280, n_neighbors=10, p_value=0.003\n"
          ],
          "name": "stdout"
        }
      ]
    },
    {
      "cell_type": "code",
      "metadata": {
        "id": "uAe0VnvNxsmU",
        "colab_type": "code",
        "colab": {
          "base_uri": "https://localhost:8080/",
          "height": 34
        },
        "outputId": "e503ec61-57e7-4ccd-91c0-bbb157f99dc3"
      },
      "source": [
        "# 군집 중심 리스트\n",
        "indices = list(set(indices))\n",
        "print(indices)"
      ],
      "execution_count": 12,
      "outputs": [
        {
          "output_type": "stream",
          "text": [
            "[259, 7, 263, 265, 266, 135, 270, 272, 144, 18, 147, 150, 151, 280, 25, 35, 46, 179, 187, 62, 69, 70, 76, 81, 212, 87, 94, 225, 121, 252]\n"
          ],
          "name": "stdout"
        }
      ]
    },
    {
      "cell_type": "code",
      "metadata": {
        "id": "ZJkST7WFxx7K",
        "colab_type": "code",
        "colab": {
          "base_uri": "https://localhost:8080/",
          "height": 34
        },
        "outputId": "bb16292b-7f14-45e8-e0a9-8401a27e1ef1"
      },
      "source": [
        "# 군집 중심 갯수\n",
        "len(indices)"
      ],
      "execution_count": 13,
      "outputs": [
        {
          "output_type": "execute_result",
          "data": {
            "text/plain": [
              "30"
            ]
          },
          "metadata": {
            "tags": []
          },
          "execution_count": 13
        }
      ]
    }
  ]
}
