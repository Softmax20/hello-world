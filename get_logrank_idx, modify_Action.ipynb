{
  "nbformat": 4,
  "nbformat_minor": 0,
  "metadata": {
    "colab": {
      "name": "get_logrank_idx",
      "provenance": [],
      "authorship_tag": "ABX9TyMgh/dULLKU6V+l/s+2XIFu",
      "include_colab_link": true
    },
    "kernelspec": {
      "name": "python3",
      "display_name": "Python 3"
    }
  },
  "cells": [
    {
      "cell_type": "markdown",
      "metadata": {
        "id": "view-in-github",
        "colab_type": "text"
      },
      "source": [
        "<a href=\"https://colab.research.google.com/github/Softmax20/hello-world/blob/master/get_logrank_idx%2C%20modify_Action.ipynb\" target=\"_parent\"><img src=\"https://colab.research.google.com/assets/colab-badge.svg\" alt=\"Open In Colab\"/></a>"
      ]
    },
    {
      "cell_type": "code",
      "metadata": {
        "id": "wKtgdFiZF4FP",
        "colab_type": "code",
        "colab": {
          "base_uri": "https://localhost:8080/",
          "height": 369
        },
        "outputId": "714ccec6-7f82-475b-80ae-8e9906fdfa91"
      },
      "source": [
        "pip install lifelines"
      ],
      "execution_count": 1,
      "outputs": [
        {
          "output_type": "stream",
          "text": [
            "Collecting lifelines\n",
            "\u001b[?25l  Downloading https://files.pythonhosted.org/packages/fb/7b/9b2cc2ef870b31ca342f97f5b0cd7a31eda13fcf16de4f55b8121b1144d3/lifelines-0.25.2-py3-none-any.whl (344kB)\n",
            "\r\u001b[K     |█                               | 10kB 18.3MB/s eta 0:00:01\r\u001b[K     |██                              | 20kB 3.4MB/s eta 0:00:01\r\u001b[K     |██▉                             | 30kB 4.5MB/s eta 0:00:01\r\u001b[K     |███▉                            | 40kB 4.8MB/s eta 0:00:01\r\u001b[K     |████▊                           | 51kB 3.9MB/s eta 0:00:01\r\u001b[K     |█████▊                          | 61kB 4.3MB/s eta 0:00:01\r\u001b[K     |██████▋                         | 71kB 4.7MB/s eta 0:00:01\r\u001b[K     |███████▋                        | 81kB 4.4MB/s eta 0:00:01\r\u001b[K     |████████▋                       | 92kB 4.8MB/s eta 0:00:01\r\u001b[K     |█████████▌                      | 102kB 5.1MB/s eta 0:00:01\r\u001b[K     |██████████▌                     | 112kB 5.1MB/s eta 0:00:01\r\u001b[K     |███████████▍                    | 122kB 5.1MB/s eta 0:00:01\r\u001b[K     |████████████▍                   | 133kB 5.1MB/s eta 0:00:01\r\u001b[K     |█████████████▎                  | 143kB 5.1MB/s eta 0:00:01\r\u001b[K     |██████████████▎                 | 153kB 5.1MB/s eta 0:00:01\r\u001b[K     |███████████████▎                | 163kB 5.1MB/s eta 0:00:01\r\u001b[K     |████████████████▏               | 174kB 5.1MB/s eta 0:00:01\r\u001b[K     |█████████████████▏              | 184kB 5.1MB/s eta 0:00:01\r\u001b[K     |██████████████████              | 194kB 5.1MB/s eta 0:00:01\r\u001b[K     |███████████████████             | 204kB 5.1MB/s eta 0:00:01\r\u001b[K     |████████████████████            | 215kB 5.1MB/s eta 0:00:01\r\u001b[K     |█████████████████████           | 225kB 5.1MB/s eta 0:00:01\r\u001b[K     |██████████████████████          | 235kB 5.1MB/s eta 0:00:01\r\u001b[K     |██████████████████████▉         | 245kB 5.1MB/s eta 0:00:01\r\u001b[K     |███████████████████████▉        | 256kB 5.1MB/s eta 0:00:01\r\u001b[K     |████████████████████████▊       | 266kB 5.1MB/s eta 0:00:01\r\u001b[K     |█████████████████████████▊      | 276kB 5.1MB/s eta 0:00:01\r\u001b[K     |██████████████████████████▋     | 286kB 5.1MB/s eta 0:00:01\r\u001b[K     |███████████████████████████▋    | 296kB 5.1MB/s eta 0:00:01\r\u001b[K     |████████████████████████████▌   | 307kB 5.1MB/s eta 0:00:01\r\u001b[K     |█████████████████████████████▌  | 317kB 5.1MB/s eta 0:00:01\r\u001b[K     |██████████████████████████████▌ | 327kB 5.1MB/s eta 0:00:01\r\u001b[K     |███████████████████████████████▍| 337kB 5.1MB/s eta 0:00:01\r\u001b[K     |████████████████████████████████| 348kB 5.1MB/s \n",
            "\u001b[?25hRequirement already satisfied: patsy>=0.5.0 in /usr/local/lib/python3.6/dist-packages (from lifelines) (0.5.1)\n",
            "Requirement already satisfied: matplotlib>=3.0 in /usr/local/lib/python3.6/dist-packages (from lifelines) (3.2.2)\n",
            "Requirement already satisfied: numpy>=1.14.0 in /usr/local/lib/python3.6/dist-packages (from lifelines) (1.18.5)\n",
            "Requirement already satisfied: pandas>=0.23.0 in /usr/local/lib/python3.6/dist-packages (from lifelines) (1.0.5)\n",
            "Collecting autograd-gamma>=0.3\n",
            "  Downloading https://files.pythonhosted.org/packages/0a/07/d99339c9420b58b723a9189d1373e5c3889758b2202a1a7fe4a3b7a10c5a/autograd_gamma-0.4.2-py2.py3-none-any.whl\n",
            "Requirement already satisfied: autograd>=1.3 in /usr/local/lib/python3.6/dist-packages (from lifelines) (1.3)\n",
            "Requirement already satisfied: scipy>=1.2.0 in /usr/local/lib/python3.6/dist-packages (from lifelines) (1.4.1)\n",
            "Requirement already satisfied: six in /usr/local/lib/python3.6/dist-packages (from patsy>=0.5.0->lifelines) (1.15.0)\n",
            "Requirement already satisfied: pyparsing!=2.0.4,!=2.1.2,!=2.1.6,>=2.0.1 in /usr/local/lib/python3.6/dist-packages (from matplotlib>=3.0->lifelines) (2.4.7)\n",
            "Requirement already satisfied: python-dateutil>=2.1 in /usr/local/lib/python3.6/dist-packages (from matplotlib>=3.0->lifelines) (2.8.1)\n",
            "Requirement already satisfied: cycler>=0.10 in /usr/local/lib/python3.6/dist-packages (from matplotlib>=3.0->lifelines) (0.10.0)\n",
            "Requirement already satisfied: kiwisolver>=1.0.1 in /usr/local/lib/python3.6/dist-packages (from matplotlib>=3.0->lifelines) (1.2.0)\n",
            "Requirement already satisfied: pytz>=2017.2 in /usr/local/lib/python3.6/dist-packages (from pandas>=0.23.0->lifelines) (2018.9)\n",
            "Requirement already satisfied: future>=0.15.2 in /usr/local/lib/python3.6/dist-packages (from autograd>=1.3->lifelines) (0.16.0)\n",
            "Installing collected packages: autograd-gamma, lifelines\n",
            "Successfully installed autograd-gamma-0.4.2 lifelines-0.25.2\n"
          ],
          "name": "stdout"
        }
      ]
    },
    {
      "cell_type": "code",
      "metadata": {
        "id": "m4c2H35JF8x2",
        "colab_type": "code",
        "colab": {
          "base_uri": "https://localhost:8080/",
          "height": 142
        },
        "outputId": "5e88cc03-ab6f-4523-c44f-b661794873b7"
      },
      "source": [
        "from lifelines.statistics import logrank_test\n",
        "import numpy as np\n",
        "import matplotlib.pyplot as plt\n",
        "import pandas as pd\n",
        "%matplotlib inline\n",
        "\n",
        "# 대회 데이터셋 DataFrame으로 불러오기\n",
        "from google.colab import drive\n",
        "drive.mount(\"/content/gdrive\")\n",
        "%cd /content/gdrive/My Drive\n",
        "X_df = pd.read_csv('trainX.csv')\n",
        "Y_df = pd.read_csv('trainY.csv')\n",
        "A_df = pd.read_csv('trainA.csv')\n",
        "test_df = pd.read_csv('testX.csv')\n",
        "\n",
        "tabels = [X_df, Y_df, A_df, test_df]\n",
        "\n",
        "for tabel in tabels:\n",
        "  tabel.drop('Unnamed: 0', axis=1, inplace=True)\n",
        "\n",
        "from sklearn.neighbors import NearestNeighbors"
      ],
      "execution_count": 2,
      "outputs": [
        {
          "output_type": "stream",
          "text": [
            "Go to this URL in a browser: https://accounts.google.com/o/oauth2/auth?client_id=947318989803-6bn6qk8qdgf4n4g3pfee6491hc0brc4i.apps.googleusercontent.com&redirect_uri=urn%3aietf%3awg%3aoauth%3a2.0%3aoob&scope=email%20https%3a%2f%2fwww.googleapis.com%2fauth%2fdocs.test%20https%3a%2f%2fwww.googleapis.com%2fauth%2fdrive%20https%3a%2f%2fwww.googleapis.com%2fauth%2fdrive.photos.readonly%20https%3a%2f%2fwww.googleapis.com%2fauth%2fpeopleapi.readonly&response_type=code\n",
            "\n",
            "Enter your authorization code:\n",
            "··········\n",
            "Mounted at /content/gdrive\n",
            "/content/gdrive/My Drive\n"
          ],
          "name": "stdout"
        }
      ]
    },
    {
      "cell_type": "code",
      "metadata": {
        "id": "o2KK-PG8GGSz",
        "colab_type": "code",
        "colab": {}
      },
      "source": [
        "def get_logrank_idx(X_df, Y_df, A_df, n_max, n_min, p_threshold=0.005):\n",
        "    \n",
        "    # n 범위와 p 기준에 따라 n별 index, 중복 index, 총 index 모음 반환\n",
        "    \n",
        "    Time = Y_df['time']\n",
        "    Event = Y_df['event']\n",
        "    n_indices = dict()\n",
        "    total_indices=[]\n",
        "    rep_indices=[]\n",
        "    for n in range(n_min, n_max+1):\n",
        "\n",
        "        indices = []\n",
        "        \n",
        "        # kneighbors: 각 trainX를 중심으로 한 n개의 인접 환자 ndarray\n",
        "        neigh = NearestNeighbors(n_neighbors=n).fit(X_df)\n",
        "        kneighbors = neigh.kneighbors(X_df, n_neighbors=n)[1]\n",
        "        \n",
        "        for i in range(0, 286):\n",
        "            \n",
        "            # Action에 따라 군집을 나누기 위해 인덱스 추출\n",
        "            Action = A_df.iloc[kneighbors[i]]\n",
        "            Action1 = Action[Action['Action']==1].index\n",
        "            Action0 = Action[Action['Action']==0].index\n",
        "            \n",
        "            # log rank test 시행\n",
        "            results = logrank_test(Time.iloc[Action1], Time.iloc[Action0], event_observed_A=Event.iloc[Action1], event_observed_B=Event.iloc[Action0])\n",
        "            \n",
        "            # p < p_threshold 일 경우 결과 출력 및 군집 중심 저장\n",
        "            if results.p_value < p_threshold:\n",
        "                indices.append(i)\n",
        "                total_indices.append(i)\n",
        "        \n",
        "        n_indices[str(n)] = indices\n",
        "        print(f'n_neighbors= {n} 일 때 index= {indices}, 총 {len(indices)}개')\n",
        "\n",
        "    for i in total_indices:\n",
        "        if total_indices.count(i)>(n_max-n_min):\n",
        "            rep_indices.append(i)\n",
        "    \n",
        "    rep_indices = list(set(rep_indices))\n",
        "    print(f'n_neighbors: {n_min}~{n_max} 일 때 중복 index= {rep_indices}, 총 {len(rep_indices)}개')\n",
        "    \n",
        "    total_indices = list(set(total_indices))\n",
        "    print(f'n_neighbors: {n_min}~{n_max} 일 때 총 index= {total_indices}, 총 {len(total_indices)}개')\n",
        "    \n",
        "    return n_indices, rep_indices, total_indices"
      ],
      "execution_count": 24,
      "outputs": []
    },
    {
      "cell_type": "code",
      "metadata": {
        "id": "b-DFWKtvKuh7",
        "colab_type": "code",
        "colab": {
          "base_uri": "https://localhost:8080/",
          "height": 105
        },
        "outputId": "02f706b9-8833-413a-cdea-ffc94275dcdc"
      },
      "source": [
        "n_indices, rep_indices, total_indices = get_logrank_idx(X_df, Y_df, A_df, 12, 10, p_threshold=0.004)"
      ],
      "execution_count": 25,
      "outputs": [
        {
          "output_type": "stream",
          "text": [
            "n_neighbors= 10 일 때 index= [17, 30, 47, 90, 91, 93, 122, 126, 149, 180, 197, 237, 242, 248, 258, 272], 총 16개\n",
            "n_neighbors= 11 일 때 index= [15, 30, 47, 76, 90, 105, 122, 126, 163, 180, 197, 237, 242, 248, 258, 275], 총 16개\n",
            "n_neighbors= 12 일 때 index= [15, 30, 47, 76, 90, 105, 122, 126, 160, 163, 197, 237, 248, 258], 총 14개\n",
            "n_neighbors: 10~12 일 때 중복 index= [258, 197, 122, 237, 47, 30, 248, 90, 126], 총 9개\n",
            "n_neighbors: 10~12 일 때 총 index= [258, 15, 272, 17, 275, 149, 30, 160, 163, 47, 180, 197, 76, 90, 91, 93, 105, 237, 242, 248, 122, 126], 총 22개\n"
          ],
          "name": "stdout"
        }
      ]
    },
    {
      "cell_type": "code",
      "metadata": {
        "id": "O7ykjq1uNPZS",
        "colab_type": "code",
        "colab": {
          "base_uri": "https://localhost:8080/",
          "height": 54
        },
        "outputId": "07176992-34af-4be7-ecff-6f41f8dcf509"
      },
      "source": [
        "print(n_indices)"
      ],
      "execution_count": 27,
      "outputs": [
        {
          "output_type": "stream",
          "text": [
            "{'10': [17, 30, 47, 90, 91, 93, 122, 126, 149, 180, 197, 237, 242, 248, 258, 272], '11': [15, 30, 47, 76, 90, 105, 122, 126, 163, 180, 197, 237, 242, 248, 258, 275], '12': [15, 30, 47, 76, 90, 105, 122, 126, 160, 163, 197, 237, 248, 258]}\n"
          ],
          "name": "stdout"
        }
      ]
    },
    {
      "cell_type": "code",
      "metadata": {
        "id": "y8X2gaNVNSh6",
        "colab_type": "code",
        "colab": {
          "base_uri": "https://localhost:8080/",
          "height": 34
        },
        "outputId": "6135b6d0-6f2d-4014-ff68-8b6b36ee635c"
      },
      "source": [
        "print(rep_indices)"
      ],
      "execution_count": 28,
      "outputs": [
        {
          "output_type": "stream",
          "text": [
            "[258, 197, 122, 237, 47, 30, 248, 90, 126]\n"
          ],
          "name": "stdout"
        }
      ]
    },
    {
      "cell_type": "code",
      "metadata": {
        "id": "1HRoZLQaNQZ7",
        "colab_type": "code",
        "colab": {
          "base_uri": "https://localhost:8080/",
          "height": 34
        },
        "outputId": "935cde27-a209-4958-8336-f7ceca7dcfa1"
      },
      "source": [
        "print(total_indices)"
      ],
      "execution_count": 29,
      "outputs": [
        {
          "output_type": "stream",
          "text": [
            "[258, 15, 272, 17, 275, 149, 30, 160, 163, 47, 180, 197, 76, 90, 91, 93, 105, 237, 242, 248, 122, 126]\n"
          ],
          "name": "stdout"
        }
      ]
    },
    {
      "cell_type": "code",
      "metadata": {
        "id": "cXWhyQFwUFxL",
        "colab_type": "code",
        "colab": {}
      },
      "source": [
        "def modify_Action(X_df, Y_df, A_df, n, indices):\n",
        "\n",
        "    TA_df = pd.concat([Y_df['time'], A_df['Action']], axis=1, sort=False)\n",
        "    new_A_df = A_df.copy()\n",
        "    \n",
        "    # kneighbors: 각 trainX를 중심으로 한 n개의 인접 환자 ndarray\n",
        "    neigh = NearestNeighbors(n_neighbors=n).fit(X_df)\n",
        "    kneighbors = neigh.kneighbors(X_df, n_neighbors=n)[1]\n",
        "    \n",
        "    for i in indices:\n",
        "        \n",
        "        Action = new_A_df.iloc[kneighbors[i]]\n",
        "        Action1 = Action[Action['Action']==1].index\n",
        "        Action0 = Action[Action['Action']==0].index\n",
        "        \n",
        "        TA_i = TA_df.iloc[kneighbors[i]]\n",
        "            \n",
        "        if np.mean(TA_i['time'][TA_i['Action']==1])-np.mean(TA_i['time'][TA_i['Action']==0])>0:\n",
        "            new_A_df['Action'].iloc[Action0]=1\n",
        "            \n",
        "        else:\n",
        "            new_A_df['Action'].iloc[Action1]=0\n",
        "    \n",
        "    return new_A_df"
      ],
      "execution_count": 31,
      "outputs": []
    },
    {
      "cell_type": "code",
      "metadata": {
        "id": "wHDIsy2OXUbS",
        "colab_type": "code",
        "colab": {}
      },
      "source": [
        "A1_df = modify_Action(X_df, Y_df, A_df, n=12, indices=rep_indices)"
      ],
      "execution_count": 35,
      "outputs": []
    },
    {
      "cell_type": "code",
      "metadata": {
        "id": "y-LrhaT9YoxB",
        "colab_type": "code",
        "colab": {
          "base_uri": "https://localhost:8080/",
          "height": 70
        },
        "outputId": "0e94c55b-69c9-4cd5-a498-238c60c3acee"
      },
      "source": [
        "(A1_df==A_df)['Action'].value_counts()"
      ],
      "execution_count": 50,
      "outputs": [
        {
          "output_type": "execute_result",
          "data": {
            "text/plain": [
              "True     651\n",
              "False     15\n",
              "Name: Action, dtype: int64"
            ]
          },
          "metadata": {
            "tags": []
          },
          "execution_count": 50
        }
      ]
    },
    {
      "cell_type": "code",
      "metadata": {
        "id": "wFLsCMTqYr0V",
        "colab_type": "code",
        "colab": {}
      },
      "source": [
        ""
      ],
      "execution_count": null,
      "outputs": []
    }
  ]
}